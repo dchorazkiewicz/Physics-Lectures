{
 "cells": [
  {
   "cell_type": "code",
   "execution_count": null,
   "id": "b6789f9a",
   "metadata": {
    "title": "markdown"
   },
   "outputs": [],
   "source": [
    "# # Physics with Python\n",
    "# We will use Python to solve physics problems. Don't be afraid of the code, it is very simple and easy to understand.\n",
    "# secondly we can use GPT to explain and modify the code."
   ]
  },
  {
   "cell_type": "code",
   "execution_count": null,
   "id": "1263bc98",
   "metadata": {
    "lines_to_next_cell": 2,
    "title": "codecell"
   },
   "outputs": [],
   "source": [
    "import numpy as np\n",
    "import scipy as sp\n",
    "import matplotlib.pyplot as plt"
   ]
  },
  {
   "cell_type": "code",
   "execution_count": null,
   "id": "94bbb455",
   "metadata": {
    "title": "codecell"
   },
   "outputs": [],
   "source": [
    "# Plot sin(x) and cos(x) from 0 to 2*pi\n",
    "x = np.linspace(0, 2 * np.pi, 100)\n",
    "y1 = np.sin(x)\n",
    "y2 = np.cos(x)\n",
    "plt.plot(x, y1, label=\"sin(x)\", color=\"r\")\n",
    "plt.plot(x, y2, label=\"cos(x)\", color=\"b\")\n",
    "plt.legend()\n",
    "plt.show()"
   ]
  },
  {
   "cell_type": "code",
   "execution_count": null,
   "id": "a6d82631",
   "metadata": {
    "title": "codecell"
   },
   "outputs": [],
   "source": [
    "# plot circle\n",
    "theta = np.linspace(0, 2 * np.pi, 100)\n",
    "x = np.cos(theta)\n",
    "y = np.sin(theta)\n",
    "plt.plot(x, y)\n",
    "plt.axis(\"equal\")\n",
    "plt.show()"
   ]
  },
  {
   "cell_type": "code",
   "execution_count": null,
   "id": "6c2f6fff",
   "metadata": {
    "title": "codecell"
   },
   "outputs": [],
   "source": [
    "# solve a y'(x)=-y(x) with y(0)=1 using Euler's method\n",
    "def f(x, y):\n",
    "    return -y\n",
    "\n",
    "\n",
    "x = 0\n",
    "y = 1\n",
    "h = 0.001\n",
    "X = [x]\n",
    "Y = [y]\n",
    "for i in range(10000):\n",
    "    y = y + h * f(x, y)\n",
    "    x = x + h\n",
    "    X.append(x)\n",
    "    Y.append(y)\n",
    "plt.plot(X, Y)\n",
    "plt.show()"
   ]
  },
  {
   "cell_type": "code",
   "execution_count": null,
   "id": "2ea31d20",
   "metadata": {
    "title": "codecell"
   },
   "outputs": [],
   "source": [
    "# solve a y''(x)=-y(x) with y(0)=0 and y'(0)=1 using Euler's method\n",
    "# What is wrong with this numerical solution?"
   ]
  }
 ],
 "metadata": {
  "jupytext": {
   "cell_metadata_filter": "title,-all",
   "main_language": "python",
   "notebook_metadata_filter": "-all"
  }
 },
 "nbformat": 4,
 "nbformat_minor": 5
}
