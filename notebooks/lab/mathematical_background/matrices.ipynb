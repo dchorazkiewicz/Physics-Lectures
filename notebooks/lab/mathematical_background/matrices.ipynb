{
 "cells": [
  {
   "cell_type": "markdown",
   "source": [
    "# Lessons on Matrices\n",
    "\n"
   ],
   "metadata": {
    "collapsed": false
   },
   "id": "6efd5ea5dce10648"
  }
 ],
 "metadata": {
  "kernelspec": {
   "display_name": "Python 3",
   "language": "python",
   "name": "python3"
  },
  "language_info": {
   "codemirror_mode": {
    "name": "ipython",
    "version": 2
   },
   "file_extension": ".py",
   "mimetype": "text/x-python",
   "name": "python",
   "nbconvert_exporter": "python",
   "pygments_lexer": "ipython2",
   "version": "2.7.6"
  }
 },
 "nbformat": 4,
 "nbformat_minor": 5
}
