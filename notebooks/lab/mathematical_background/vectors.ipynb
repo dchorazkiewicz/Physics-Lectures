{
 "cells": [
  {
   "cell_type": "markdown",
   "id": "25ee70cd",
   "metadata": {},
   "source": [
    "# Lesson on Vectors\n",
    "\n",
    "In this lesson, we'll delve deeper into the world of vectors, fundamental objects in applied mathematics, physics, and engineering.\n",
    "Vectors are utilized in various fields, from computer graphics to quantum mechanics.\n",
    "Understanding them is crucial for a broad range of scientific inquiries and applications."
   ]
  },
  {
   "cell_type": "markdown",
   "id": "97c326f9",
   "metadata": {
    "lines_to_next_cell": 2
   },
   "source": [
    "## What is a Vector?\n",
    "\n",
    "A common perception of vectors is as arrows or directed line segments in space, often interpreted as collections of numbers where the quantity of these numbers corresponds to the dimension of the space. This view is prevalent in many areas of mathematics, physics, and engineering, where vectors are used to represent quantities such as forces, velocities, or displacements, each with a magnitude and direction.\n",
    "\n",
    "However, the definition of a vector is broad enough to encompass more abstract entities, such as functions, which can also form a vector space. \n",
    "In this context, a vector space can be seen as a collection of functions that can be added together or multiplied by numbers.\n",
    "\n",
    "Despite this wide applicability, in this lesson, we will focus on the classical examples of vectors as collections of numbers.\n",
    "These are the types of vectors that are most familiar and directly applicable to a wide range of problems in science and engineering, providing a concrete foundation for understanding the broader concept of vector spaces and their operations."
   ]
  },
  {
   "cell_type": "markdown",
   "id": "9cbf265a",
   "metadata": {},
   "source": [
    "## Components of a Vector\n",
    "A vector can be represented as an ordered list of numbers, known as its components. These components can be used to describe the vector's magnitude and direction, as well as to perform various operations on the vector. In a three-dimensional space, a vector can be represented as an ordered triple (x, y, z), where x, y, and z are the vector's components along the x, y, and z axes, respectively."
   ]
  },
  {
   "cell_type": "code",
   "outputs": [],
   "source": [
    "# Define symbols wich will be used as components of the vectors\n",
    "import sympy as sp\n",
    "x1, y1, z1, x2, y2, z2 = sp.symbols('x1 y1 z1 x2 y2 z2')\n",
    "a = sp.Symbol('a')"
   ],
   "metadata": {
    "collapsed": false
   },
   "id": "277185b0f31ff4e2",
   "execution_count": null
  },
  {
   "cell_type": "markdown",
   "source": [
    "Above code is using a Python library for symbolic mathematics, is defining symbols that will be used as components of vectors and a scalar value. Here's a breakdown of what each part does:\n",
    "\n",
    "1. **Import sympy as sp**: This line imports the `sympy` library and aliases it as `sp`. It allows you to use the functions and classes defined in `sympy` by prefixing them with `sp.` instead of typing `sympy.` every time.\n",
    "\n",
    "2. **Define symbols for vector components**: The line `x1, y1, z1, x2, y2, z2 = sp.symbols('x1 y1 z1 x2 y2 z2')` uses the `symbols` function to create symbolic objects. In this case, it creates six symbols that represent the components of two vectors in a three-dimensional space. Each symbol corresponds to one component: `x1`, `y1`, and `z1` for the first vector, and `x2`, `y2`, and `z2` for the second vector. These symbols are placeholders that can represent any real number, allowing you to perform symbolic computations without specifying numerical values.\n",
    "\n",
    "3. **Define a symbol for a scalar value**: The line `a = sp.Symbol('a')` creates a single symbol `a` that can be used to represent a scalar value. This scalar can interact with vectors in operations such as scalar multiplication.\n",
    "\n",
    "By defining symbols and using them as components of vectors, you can perform algebraic manipulations symbolically. For example, you can express vector operations, solve systems of equations involving vectors, or derive formulas that include vector quantities, all without needing to use specific numerical values. This approach is particularly useful in theoretical work, where you want to derive general expressions or properties that are not tied to particular instances.\n"
   ],
   "metadata": {
    "collapsed": false
   },
   "id": "54556899c6345982"
  },
  {
   "cell_type": "code",
   "outputs": [],
   "source": [
    "# Define vectors using sympy's Matrix class\n",
    "vector_a = sp.Matrix([x1, y1, z1])\n",
    "vector_b = sp.Matrix([x2, y2, z2])"
   ],
   "metadata": {
    "collapsed": false
   },
   "id": "fbc019d2596db339",
   "execution_count": null
  },
  {
   "cell_type": "code",
   "outputs": [],
   "source": [
    "# Display the vectors\n",
    "vector_a"
   ],
   "metadata": {
    "collapsed": false
   },
   "id": "4f2298650a3d22a3",
   "execution_count": null
  },
  {
   "cell_type": "code",
   "outputs": [],
   "source": [
    "vector_a.subs({x1: 2, y1: 3, z1: 4})"
   ],
   "metadata": {
    "collapsed": false
   },
   "id": "67c10552f1d14b3b",
   "execution_count": null
  },
  {
   "cell_type": "code",
   "outputs": [],
   "source": [
    "# Vector addition\n",
    "sum_vector = vector_a + vector_b # Vector addition\n",
    "sum_vector # print the result"
   ],
   "metadata": {
    "collapsed": false
   },
   "id": "ea81920f07acddfa",
   "execution_count": null
  },
  {
   "cell_type": "code",
   "outputs": [],
   "source": [
    "# substitution\n",
    "sum_vector.subs({x1: 2, y1: 3, z1: 4, x2: 5, y2: 6, z2: 7})"
   ],
   "metadata": {
    "collapsed": false
   },
   "id": "353bc5658f23e646",
   "execution_count": null
  },
  {
   "cell_type": "code",
   "outputs": [],
   "source": [
    "# Scalar multiplication\n",
    "scaled_vector = vector_a * a\n",
    "scaled_vector"
   ],
   "metadata": {
    "collapsed": false
   },
   "id": "420719d0daf8a5e7",
   "execution_count": null
  },
  {
   "cell_type": "code",
   "outputs": [],
   "source": [
    "#substitution\n",
    "scaled_vector.subs({x1: 2, y1: 3, z1: 4, a: 2})"
   ],
   "metadata": {
    "collapsed": false
   },
   "id": "fd636d8571e9973c",
   "execution_count": null
  },
  {
   "cell_type": "code",
   "outputs": [],
   "source": [
    "# Dot product\n",
    "dot_product = vector_a.dot(vector_b)\n",
    "dot_product"
   ],
   "metadata": {
    "collapsed": false
   },
   "id": "70152bd971ab90fc",
   "execution_count": null
  },
  {
   "cell_type": "code",
   "outputs": [],
   "source": [
    "# substitution\n",
    "dot_product.subs({x1: 2, y1: 3, z1: 4, x2: 5, y2: 6, z2: 7})"
   ],
   "metadata": {
    "collapsed": false
   },
   "id": "436b84bdc5d47c1",
   "execution_count": null
  },
  {
   "cell_type": "code",
   "outputs": [],
   "source": [
    "# cross product\n",
    "cross_product = vector_a.cross(vector_b)\n",
    "cross_product"
   ],
   "metadata": {
    "collapsed": false
   },
   "id": "9c61612c4d404035",
   "execution_count": null
  },
  {
   "cell_type": "code",
   "outputs": [],
   "source": [
    "cross_product.subs({x1: 2, y1: 3, z1: 4, x2: 5, y2: 6, z2: 7})"
   ],
   "metadata": {
    "collapsed": false
   },
   "id": "452652e5700d04ab",
   "execution_count": null
  },
  {
   "cell_type": "code",
   "outputs": [],
   "source": [
    "# Norm of a vector (magnitude)\n",
    "norm_a = vector_a.norm()\n",
    "norm_a"
   ],
   "metadata": {
    "collapsed": false
   },
   "id": "538b38bdce43919",
   "execution_count": null
  },
  {
   "cell_type": "code",
   "outputs": [],
   "source": [
    "# substitution\n",
    "norm_a.subs({x1: 2, y1: 3, z1: 4})"
   ],
   "metadata": {
    "collapsed": false
   },
   "id": "6308a10d1342229b",
   "execution_count": null
  },
  {
   "cell_type": "markdown",
   "source": [
    "# Numpy Examples\n",
    "\n",
    "Numpy library is a powerful tool for numerical computing in Python. It provides support for large, multi-dimensional arrays and matrices, along with a collection of mathematical functions to operate on these arrays. Numpy is widely used in scientific and engineering applications, making it an essential library for working with vectors and other mathematical objects."
   ],
   "metadata": {
    "collapsed": false
   },
   "id": "dbea14da74840df2"
  },
  {
   "cell_type": "code",
   "outputs": [],
   "source": [
    "import numpy as np\n",
    "\n",
    "# Example vectors\n",
    "vector_a = np.array([2, 3])\n",
    "vector_b = np.array([-1, 4])\n",
    "\n",
    "print(\"Vector a:\", vector_a)\n",
    "print(\"Vector b:\", vector_b)"
   ],
   "metadata": {
    "collapsed": false
   },
   "id": "d62a836c14850316",
   "execution_count": null
  },
  {
   "cell_type": "markdown",
   "source": [
    "## Vector Operations\n",
    "\n",
    "We can perform several basic operations with vectors, including addition, subtraction, scalar multiplication, and the dot product. These operations have both geometric and physical interpretations, enhancing our ability to model and solve real-world problems."
   ],
   "metadata": {
    "collapsed": false
   },
   "id": "8e9ad76b86ad7bb9"
  },
  {
   "cell_type": "code",
   "outputs": [],
   "source": [
    "# Vector addition\n",
    "sum_vector = vector_a + vector_b\n",
    "print(\"Vector sum (a + b):\", sum_vector)"
   ],
   "metadata": {
    "collapsed": false
   },
   "id": "11516a6dcbf9b59e",
   "execution_count": null
  },
  {
   "cell_type": "code",
   "outputs": [],
   "source": [
    "# Scalar multiplication\n",
    "scalar = 2\n",
    "scaled_vector = vector_a * scalar\n",
    "print(f\"Vector a scaled by {scalar}:\", scaled_vector)"
   ],
   "metadata": {
    "collapsed": false
   },
   "id": "79c64167b2e9d25b",
   "execution_count": null
  },
  {
   "cell_type": "code",
   "outputs": [],
   "source": [
    "# Dot product\n",
    "dot_product = np.dot(vector_a, vector_b)\n",
    "print(\"Dot product of vectors a and b:\", dot_product)"
   ],
   "metadata": {
    "collapsed": false
   },
   "id": "fa325f2f5c57a8e0",
   "execution_count": null
  },
  {
   "cell_type": "markdown",
   "source": [
    "## Vector Norm\n",
    "\n",
    "The norm of a vector, often represented as ||a||, is a measure of its length or magnitude. Mathematically, it is the square root of the sum of the squares of its components. The norm provides a way to quantify the size of vectors, which is especially useful when comparing vectors or calculating distances in space."
   ],
   "metadata": {
    "collapsed": false
   },
   "id": "d4bd19877e8249e8"
  },
  {
   "cell_type": "code",
   "outputs": [],
   "source": [
    "norm_a = np.linalg.norm(vector_a)\n",
    "print(\"Norm of vector a:\", norm_a)"
   ],
   "metadata": {
    "collapsed": false
   },
   "id": "b33ceefe57f87490",
   "execution_count": null
  },
  {
   "cell_type": "markdown",
   "source": [
    "# Student exercises"
   ],
   "metadata": {
    "collapsed": false
   },
   "id": "da2b6d6048bf5e48"
  },
  {
   "cell_type": "code",
   "outputs": [],
   "source": [
    "# Exercise 1\n",
    "# Define two vectors v1=[2,3,0] and v2=[3,-1,0] using numpy arrays: result = [5, 2]\n"
   ],
   "metadata": {
    "collapsed": false
   },
   "id": "1aa49adc1e28a847",
   "execution_count": null
  },
  {
   "cell_type": "code",
   "outputs": [],
   "source": [
    "# Exercise 2\n",
    "# compute the dot product of the vectors v1 and v2: result = 3\n"
   ],
   "metadata": {
    "collapsed": false
   },
   "id": "fe9444e96e7501de",
   "execution_count": null
  },
  {
   "cell_type": "code",
   "outputs": [],
   "source": [
    "# Exercise 3\n",
    "# compute the norm of the vector v1, result = 3.60555...\n"
   ],
   "metadata": {
    "collapsed": false
   },
   "id": "28cef1603e5c6f82",
   "execution_count": null
  },
  {
   "cell_type": "code",
   "outputs": [],
   "source": [
    "# Exercise 4\n",
    "# compute cross product of the vectors v1 and v2 , result = [0, 0, -11]\n"
   ],
   "metadata": {
    "collapsed": false
   },
   "id": "3348385e64e19670",
   "execution_count": null
  },
  {
   "cell_type": "code",
   "outputs": [],
   "source": [],
   "metadata": {
    "collapsed": false
   },
   "id": "434e7f99bc6fe0da"
  }
 ],
 "metadata": {
  "jupytext": {
   "cell_metadata_filter": "title,-all",
   "main_language": "python",
   "notebook_metadata_filter": "-all"
  },
  "kernelspec": {
   "name": "python3",
   "language": "python",
   "display_name": "Python 3 (ipykernel)"
  }
 },
 "nbformat": 4,
 "nbformat_minor": 5
}
