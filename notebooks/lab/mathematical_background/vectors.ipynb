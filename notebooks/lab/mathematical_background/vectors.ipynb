{
 "cells": [
  {
   "cell_type": "markdown",
   "id": "25ee70cd",
   "metadata": {},
   "source": [
    "# Lesson on Vectors\n",
    "\n",
    "In this lesson, we'll delve deeper into the world of vectors, fundamental objects in applied mathematics, physics, and engineering.\n",
    "Vectors are utilized in various fields, from computer graphics to quantum mechanics.\n",
    "Understanding them is crucial for a broad range of scientific inquiries and applications."
   ]
  },
  {
   "cell_type": "markdown",
   "id": "97c326f9",
   "metadata": {
    "lines_to_next_cell": 2
   },
   "source": [
    "## What is a Vector?\n",
    "\n",
    "A common perception of vectors is as arrows or directed line segments in space, often interpreted as collections of numbers where the\n",
    "quantity of these numbers corresponds to the dimension of the space. This view is prevalent in many areas of mathematics, physics, and engineering,\n",
    "where vectors are used to represent quantities such as forces, velocities, or displacements, each with a magnitude and direction.\n",
    "\n",
    "However, the definition of a vector is broad enough to encompass more abstract entities, such as functions,\n",
    "which can also form a vector space. In this context, a vector space can be seen as a collection of functions\n",
    "that can be added together or multiplied by numbers.\n",
    "\n",
    "Despite this wide applicability, in this lesson, we will focus on the classical examples of vectors as collections of numbers.\n",
    "These are the types of vectors that are most familiar and directly applicable to a wide range of problems in science and engineering,\n",
    "providing a concrete foundation for understanding the broader concept of vector spaces and their operations."
   ]
  },
  {
   "cell_type": "markdown",
   "id": "9cbf265a",
   "metadata": {},
   "source": [
    "## Components of a Vector\n",
    "A vector can be represented as an ordered list of numbers, known as its components.\n",
    "These components can be used to describe the vector's magnitude and direction, as well as to perform various operations on the vector.\n",
    "In a three-dimensional space, a vector can be represented as an ordered triple (x, y, z),\n",
    "where x, y, and z are the vector's components along the x, y, and z axes, respectively."
   ]
  },
  {
   "cell_type": "code",
   "execution_count": 20,
   "id": "eead3bc1",
   "metadata": {
    "lines_to_next_cell": 2,
    "title": "[code]",
    "ExecuteTime": {
     "end_time": "2024-02-10T13:17:22.312142344Z",
     "start_time": "2024-02-10T13:17:22.286113322Z"
    }
   },
   "outputs": [],
   "source": [
    "# Define symbols wich will be used as components of the vectors\n",
    "import sympy as sp\n",
    "x1, y1, z1, x2, y2, z2 = sp.symbols('x1 y1 z1 x2 y2 z2')\n",
    "a = sp.Symbol('a')"
   ]
  },
  {
   "cell_type": "code",
   "execution_count": 21,
   "id": "1bf52c73",
   "metadata": {
    "lines_to_next_cell": 2,
    "title": "[code]",
    "ExecuteTime": {
     "end_time": "2024-02-10T13:17:24.725598337Z",
     "start_time": "2024-02-10T13:17:24.716518543Z"
    }
   },
   "outputs": [],
   "source": [
    "# Define vectors using sympy's Matrix class\n",
    "vector_a = sp.Matrix([x1, y1, z1])\n",
    "vector_b = sp.Matrix([x2, y2, z2])"
   ]
  },
  {
   "cell_type": "code",
   "execution_count": 23,
   "id": "0bdce111",
   "metadata": {
    "title": "[code]",
    "ExecuteTime": {
     "end_time": "2024-02-10T13:17:36.509387592Z",
     "start_time": "2024-02-10T13:17:36.503408316Z"
    }
   },
   "outputs": [
    {
     "data": {
      "text/plain": "Matrix([\n[x1 + x2],\n[y1 + y2],\n[z1 + z2]])",
      "text/latex": "$\\displaystyle \\left[\\begin{matrix}x_{1} + x_{2}\\\\y_{1} + y_{2}\\\\z_{1} + z_{2}\\end{matrix}\\right]$"
     },
     "execution_count": 23,
     "metadata": {},
     "output_type": "execute_result"
    }
   ],
   "source": [
    "# Now we can check how adding the vectors looks like\n",
    "sum_vector = vector_a + vector_b # Vector addition\n",
    "sum_vector # print the result"
   ]
  },
  {
   "cell_type": "code",
   "execution_count": 24,
   "id": "55a443e3",
   "metadata": {
    "title": "[code]",
    "ExecuteTime": {
     "end_time": "2024-02-10T13:18:01.295687939Z",
     "start_time": "2024-02-10T13:18:01.253890969Z"
    }
   },
   "outputs": [
    {
     "name": "stdout",
     "output_type": "stream",
     "text": [
      "\n",
      "Vector a scaled by scalar:\n",
      "⎡scalar⋅x₁⎤\n",
      "⎢         ⎥\n",
      "⎢scalar⋅y₁⎥\n",
      "⎢         ⎥\n",
      "⎣scalar⋅z₁⎦\n"
     ]
    }
   ],
   "source": [
    "# Scalar multiplication\n",
    "scaled_vector = vector_a * scalar\n",
    "print(f\"\\nVector a scaled by scalar:\")\n",
    "sp.pprint(scaled_vector)"
   ]
  },
  {
   "cell_type": "code",
   "execution_count": null,
   "id": "08538c3e",
   "metadata": {
    "title": "[code]"
   },
   "outputs": [],
   "source": [
    "# Dot product\n",
    "dot_product = vector_a.dot(vector_b)\n",
    "print(\"\\nDot product of vectors a and b:\")\n",
    "sp.pprint(dot_product)"
   ]
  },
  {
   "cell_type": "code",
   "execution_count": null,
   "id": "0ebd4fee",
   "metadata": {
    "title": "[code]"
   },
   "outputs": [],
   "source": [
    "# Norm of a vector (magnitude)\n",
    "norm_a = vector_a.norm()\n",
    "print(\"\\nNorm of vector a:\")\n",
    "sp.pprint(norm_a)\n",
    "\n"
   ]
  },
  {
   "cell_type": "code",
   "execution_count": null,
   "id": "3fec4f0c",
   "metadata": {
    "title": "[code]"
   },
   "outputs": [],
   "source": [
    "import numpy as np\n",
    "\n",
    "# Example vectors\n",
    "vector_a = np.array([2, 3])\n",
    "vector_b = np.array([-1, 4])\n",
    "\n",
    "print(\"Vector a:\", vector_a)\n",
    "print(\"Vector b:\", vector_b)"
   ]
  },
  {
   "cell_type": "markdown",
   "id": "216cc92a",
   "metadata": {},
   "source": [
    "## Vector Operations\n",
    "\n",
    "We can perform several basic operations with vectors, including addition, subtraction, scalar multiplication, and the dot product. These operations have both geometric and physical interpretations, enhancing our ability to model and solve real-world problems."
   ]
  },
  {
   "cell_type": "code",
   "execution_count": null,
   "id": "f651771a",
   "metadata": {
    "title": "[code]"
   },
   "outputs": [],
   "source": [
    "# Vector addition\n",
    "sum_vector = vector_a + vector_b\n",
    "print(\"Vector sum (a + b):\", sum_vector)\n",
    "\n",
    "# Scalar multiplication\n",
    "scalar = 2\n",
    "scaled_vector = vector_a * scalar\n",
    "print(f\"Vector a scaled by {scalar}:\", scaled_vector)\n",
    "\n",
    "# Dot product\n",
    "dot_product = np.dot(vector_a, vector_b)\n",
    "print(\"Dot product of vectors a and b:\", dot_product)"
   ]
  },
  {
   "cell_type": "markdown",
   "id": "a7836d48",
   "metadata": {},
   "source": [
    "## Vector Norm\n",
    "\n",
    "The norm of a vector, often represented as ||a||, is a measure of its length or magnitude. Mathematically, it is the square root of the sum of the squares of its components. The norm provides a way to quantify the size of vectors, which is especially useful when comparing vectors or calculating distances in space."
   ]
  },
  {
   "cell_type": "code",
   "execution_count": null,
   "id": "b18671fb",
   "metadata": {
    "lines_to_next_cell": 2,
    "title": "[code]"
   },
   "outputs": [],
   "source": [
    "norm_a = np.linalg.norm(vector_a)\n",
    "print(\"Norm of vector a:\", norm_a)"
   ]
  }
 ],
 "metadata": {
  "jupytext": {
   "cell_metadata_filter": "title,-all",
   "main_language": "python",
   "notebook_metadata_filter": "-all"
  }
 },
 "nbformat": 4,
 "nbformat_minor": 5
}
