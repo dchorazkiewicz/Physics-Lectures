{
 "cells": [
  {
   "cell_type": "markdown",
   "id": "47a78b309410835a",
   "metadata": {
    "collapsed": false
   },
   "source": [
    "# Mathematical background\n",
    "\n",
    "This notebook serves as a concise introduction to the mathematical methods that will be employed throughout this course. In the upcoming lectures and laboratory sessions, we will delve into the fundamental concepts of vectors and matrices, exploring their properties and applications in various physical contexts. We will also cover the critical tools of calculus - derivatives and integrals - and see how they are utilized to describe and solve problems in physics. Furthermore, differential equations, both ordinary and partial, will be a focal point of our study. These mathematical frameworks are indispensable for modeling dynamic systems and phenomena in physics, ranging from classical mechanics to quantum mechanics. By mastering these tools, students will gain a deeper understanding of the mathematical language that underpins much of physical theory and its applications in the real world.\n"
   ]
  },
  {
   "cell_type": "code",
   "execution_count": 1,
   "id": "103a683215a9291e",
   "metadata": {
    "collapsed": false,
    "ExecuteTime": {
     "end_time": "2024-02-10T09:55:29.816414021Z",
     "start_time": "2024-02-10T09:55:28.825866306Z"
    }
   },
   "outputs": [],
   "source": [
    "import warnings\n",
    "warnings.filterwarnings('ignore')\n",
    "import numpy as np\n",
    "import matplotlib.pyplot as plt\n",
    "import sympy as sp\n",
    "import scipy as scp"
   ]
  },
  {
   "cell_type": "markdown",
   "id": "ba0303505149308c",
   "metadata": {
    "collapsed": false
   },
   "source": [
    "# Vector and matrix algebra\n",
    "\n",
    "Vectors and matrices are fundamental mathematical objects that are widely used in physics and engineering. They are employed to represent physical quantities, such as forces, velocities, and electric fields, and to solve systems of linear equations. In this section, we will introduce the basic operations and properties of vectors and matrices, which will be essential for understanding the subsequent lectures and laboratory sessions.\n",
    "\n",
    "## Vectors as a collection of numbers\n",
    "\n",
    "A vector is a mathematical object that represents a physical quantity with both magnitude and direction. In physics, vectors are used to describe quantities such as force, velocity, and electric field. A vector can be represented as a column of numbers, which is called a column vector, or as a row of numbers, which is called a row vector. For example, the position vector of a particle in three-dimensional space can be represented as a column vector:\n",
    "\n",
    "$$\n",
    "\\mathbf{r} = \\begin{pmatrix} x \\\\ y \\\\ z \\end{pmatrix}\n",
    "$$\n",
    "\n",
    "where $x$, $y$, and $z$ are the components of the position vector in the $x$, $y$, and $z$ directions, respectively. The position vector can also be represented as a row vector:\n"
   ]
  },
  {
   "cell_type": "code",
   "execution_count": 2,
   "id": "5789997d9ef8ec49",
   "metadata": {
    "collapsed": false,
    "ExecuteTime": {
     "end_time": "2024-02-10T09:55:31.903275801Z",
     "start_time": "2024-02-10T09:55:31.901476501Z"
    }
   },
   "outputs": [],
   "source": [
    "# column vector\n",
    "c = np.array([1, 2, 3])\n",
    "# row vector\n",
    "r = np.array([[1, 2, 3]])"
   ]
  },
  {
   "cell_type": "code",
   "execution_count": 3,
   "id": "ca7c62e9-e75b-4a1c-8b6f-bb1eb837c6f1",
   "metadata": {
    "ExecuteTime": {
     "end_time": "2024-02-10T09:55:33.267010212Z",
     "start_time": "2024-02-10T09:55:33.260935338Z"
    }
   },
   "outputs": [
    {
     "data": {
      "text/plain": "array([[1, 2, 3]])"
     },
     "execution_count": 3,
     "metadata": {},
     "output_type": "execute_result"
    }
   ],
   "source": [
    "r"
   ]
  },
  {
   "cell_type": "code",
   "execution_count": 4,
   "id": "0469d583-1da3-450b-b6e5-8aa8915007ae",
   "metadata": {
    "ExecuteTime": {
     "end_time": "2024-02-10T09:55:34.511414556Z",
     "start_time": "2024-02-10T09:55:34.494427643Z"
    }
   },
   "outputs": [
    {
     "data": {
      "text/plain": "(3, 1)"
     },
     "execution_count": 4,
     "metadata": {},
     "output_type": "execute_result"
    }
   ],
   "source": [
    "c[:,np.newaxis].shape"
   ]
  },
  {
   "cell_type": "code",
   "outputs": [],
   "source": [
    "# matrix multiplication\n",
    "A = np.array([[1, 2, 3], [4, 5, 6], [7, 8, 9]])\n",
    "B = np.array([[9, 8, 7], [6, 5, 4], [3, 2, 1]])\n",
    "\n",
    "C = np.dot(A, B)"
   ],
   "metadata": {
    "collapsed": false,
    "ExecuteTime": {
     "end_time": "2024-02-10T09:55:36.261727644Z",
     "start_time": "2024-02-10T09:55:36.258789503Z"
    }
   },
   "id": "4125fb095962d642",
   "execution_count": 5
  },
  {
   "cell_type": "code",
   "outputs": [
    {
     "data": {
      "text/plain": "array([[ 30,  24,  18],\n       [ 84,  69,  54],\n       [138, 114,  90]])"
     },
     "execution_count": 6,
     "metadata": {},
     "output_type": "execute_result"
    }
   ],
   "source": [
    "C"
   ],
   "metadata": {
    "collapsed": false,
    "ExecuteTime": {
     "end_time": "2024-02-10T09:55:37.693254910Z",
     "start_time": "2024-02-10T09:55:37.689865824Z"
    }
   },
   "id": "80a031d287873f12",
   "execution_count": 6
  },
  {
   "cell_type": "code",
   "outputs": [],
   "source": [],
   "metadata": {
    "collapsed": false
   },
   "id": "f900773d131c1e6e"
  }
 ],
 "metadata": {
  "kernelspec": {
   "display_name": "Python 3 (ipykernel)",
   "language": "python",
   "name": "python3"
  },
  "language_info": {
   "codemirror_mode": {
    "name": "ipython",
    "version": 3
   },
   "file_extension": ".py",
   "mimetype": "text/x-python",
   "name": "python",
   "nbconvert_exporter": "python",
   "pygments_lexer": "ipython3",
   "version": "3.11.5"
  }
 },
 "nbformat": 4,
 "nbformat_minor": 5
}
