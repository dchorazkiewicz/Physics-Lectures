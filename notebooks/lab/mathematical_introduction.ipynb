{
 "cells": [
  {
   "cell_type": "markdown",
   "id": "47a78b309410835a",
   "metadata": {
    "collapsed": false
   },
   "source": [
    "# Mathematical background\n",
    "\n",
    "This notebook serves as a concise introduction to the mathematical methods that will be employed throughout this course. In the upcoming lectures and laboratory sessions, we will delve into the fundamental concepts of vectors and matrices, exploring their properties and applications in various physical contexts. We will also cover the critical tools of calculus - derivatives and integrals - and see how they are utilized to describe and solve problems in physics. Furthermore, differential equations, both ordinary and partial, will be a focal point of our study. These mathematical frameworks are indispensable for modeling dynamic systems and phenomena in physics, ranging from classical mechanics to quantum mechanics. By mastering these tools, students will gain a deeper understanding of the mathematical language that underpins much of physical theory and its applications in the real world.\n"
   ]
  },
  {
   "cell_type": "code",
   "execution_count": 1,
   "id": "103a683215a9291e",
   "metadata": {
    "ExecuteTime": {
     "end_time": "2024-02-10T09:01:27.774821044Z",
     "start_time": "2024-02-10T09:01:27.349761421Z"
    },
    "collapsed": false
   },
   "outputs": [],
   "source": [
    "import warnings\n",
    "warnings.filterwarnings('ignore')\n",
    "import numpy as np\n",
    "import matplotlib.pyplot as plt\n",
    "import sympy as sp\n",
    "import scipy as scp"
   ]
  },
  {
   "cell_type": "markdown",
   "id": "ba0303505149308c",
   "metadata": {
    "collapsed": false
   },
   "source": [
    "# Vector and matrix algebra\n",
    "\n",
    "Vectors and matrices are fundamental mathematical objects that are widely used in physics and engineering. They are employed to represent physical quantities, such as forces, velocities, and electric fields, and to solve systems of linear equations. In this section, we will introduce the basic operations and properties of vectors and matrices, which will be essential for understanding the subsequent lectures and laboratory sessions.\n",
    "\n",
    "## Vectors as a collection of numbers\n",
    "\n",
    "A vector is a mathematical object that represents a physical quantity with both magnitude and direction. In physics, vectors are used to describe quantities such as force, velocity, and electric field. A vector can be represented as a column of numbers, which is called a column vector, or as a row of numbers, which is called a row vector. For example, the position vector of a particle in three-dimensional space can be represented as a column vector:\n",
    "\n",
    "$$\n",
    "\\mathbf{r} = \\begin{pmatrix} x \\\\ y \\\\ z \\end{pmatrix}\n",
    "$$\n",
    "\n",
    "where $x$, $y$, and $z$ are the components of the position vector in the $x$, $y$, and $z$ directions, respectively. The position vector can also be represented as a row vector:\n"
   ]
  },
  {
   "cell_type": "code",
   "execution_count": 2,
   "id": "5789997d9ef8ec49",
   "metadata": {
    "collapsed": false
   },
   "outputs": [
    {
     "data": {
      "text/plain": [
       "2"
      ]
     },
     "execution_count": 2,
     "metadata": {},
     "output_type": "execute_result"
    }
   ],
   "source": [
    "1+1"
   ]
  },
  {
   "cell_type": "code",
   "execution_count": 2,
   "id": "ca7c62e9-e75b-4a1c-8b6f-bb1eb837c6f1",
   "metadata": {
    "ExecuteTime": {
     "end_time": "2024-02-10T09:05:01.218199599Z",
     "start_time": "2024-02-10T09:05:01.174599039Z"
    }
   },
   "outputs": [
    {
     "data": {
      "text/plain": "4"
     },
     "execution_count": 2,
     "metadata": {},
     "output_type": "execute_result"
    }
   ],
   "source": [
    "2+2"
   ]
  },
  {
   "cell_type": "code",
   "execution_count": null,
   "id": "0469d583-1da3-450b-b6e5-8aa8915007ae",
   "metadata": {},
   "outputs": [],
   "source": []
  }
 ],
 "metadata": {
  "kernelspec": {
   "display_name": "Python 3 (ipykernel)",
   "language": "python",
   "name": "python3"
  },
  "language_info": {
   "codemirror_mode": {
    "name": "ipython",
    "version": 3
   },
   "file_extension": ".py",
   "mimetype": "text/x-python",
   "name": "python",
   "nbconvert_exporter": "python",
   "pygments_lexer": "ipython3",
   "version": "3.11.5"
  }
 },
 "nbformat": 4,
 "nbformat_minor": 5
}
