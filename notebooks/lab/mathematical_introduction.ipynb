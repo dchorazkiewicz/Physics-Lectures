{
 "cells": [
  {
   "cell_type": "markdown",
   "id": "aa5f7a183c455757",
   "metadata": {
    "collapsed": false,
    "jupyter": {
     "outputs_hidden": false
    }
   },
   "source": [
    "# Mathematical background\n",
    "\n",
    "This notebook is a brief introduction to the mathematical methods which will be used in following curse"
   ]
  },
  {
   "cell_type": "code",
   "execution_count": 1,
   "id": "5f476d0b3d628a6c",
   "metadata": {
    "ExecuteTime": {
     "end_time": "2024-02-10T08:00:10.432985282Z",
     "start_time": "2024-02-10T08:00:10.425763084Z"
    },
    "collapsed": false,
    "jupyter": {
     "outputs_hidden": false
    }
   },
   "outputs": [
    {
     "data": {
      "text/plain": [
       "2"
      ]
     },
     "execution_count": 1,
     "metadata": {},
     "output_type": "execute_result"
    }
   ],
   "source": [
    "1+1"
   ]
  },
  {
   "cell_type": "code",
   "execution_count": 1,
   "id": "dc5b4065696e4f4a",
   "metadata": {
    "collapsed": false,
    "jupyter": {
     "outputs_hidden": false
    }
   },
   "outputs": [
    {
     "data": {
      "text/plain": [
       "5"
      ]
     },
     "execution_count": 1,
     "metadata": {},
     "output_type": "execute_result"
    }
   ],
   "source": [
    "# zadania\n",
    "2+3"
   ]
  },
  {
   "cell_type": "code",
   "execution_count": null,
   "id": "99fdc172-650b-425a-b90c-a9a3241cd9bc",
   "metadata": {},
   "outputs": [],
   "source": []
  }
 ],
 "metadata": {
  "kernelspec": {
   "display_name": "Python 3 (ipykernel)",
   "language": "python",
   "name": "python3"
  },
  "language_info": {
   "codemirror_mode": {
    "name": "ipython",
    "version": 3
   },
   "file_extension": ".py",
   "mimetype": "text/x-python",
   "name": "python",
   "nbconvert_exporter": "python",
   "pygments_lexer": "ipython3",
   "version": "3.11.5"
  }
 },
 "nbformat": 4,
 "nbformat_minor": 5
}
